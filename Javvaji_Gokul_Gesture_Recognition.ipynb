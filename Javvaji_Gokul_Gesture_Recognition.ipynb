{
  "cells": [
    {
      "cell_type": "markdown",
      "metadata": {
        "id": "owpZ8vjA4Kk8"
      },
      "source": [
        "# Deep Learning Course Project - Gesture Recognition\n",
        "\n",
        "### Problem Statement\n",
        "Imagine you are working as a data scientist at a home electronics company which manufactures state of the art smart televisions. You want to develop a cool feature in the smart-TV that can recognise five different gestures performed by the user which will help users control the TV without using a remote.\n",
        "\n",
        "The gestures are continuously monitored by the webcam mounted on the TV. Each gesture corresponds to a specific command:\n",
        " \n",
        "| Gesture | Corresponding Action |\n",
        "| --- | --- | \n",
        "| Thumbs Up | Increase the volume. |\n",
        "| Thumbs Down | Decrease the volume. |\n",
        "| Left Swipe | 'Jump' backwards 10 seconds. |\n",
        "| Right Swipe | 'Jump' forward 10 seconds. |\n",
        "| Stop | Pause the movie. |\n",
        "\n",
        "Each video is a sequence of 30 frames (or images).\n",
        "\n",
        "### Objectives:\n",
        "1. **Generator**:  The generator should be able to take a batch of videos as input without any error. Steps like cropping, resizing and normalization should be performed successfully.\n",
        "\n",
        "2. **Model**: Develop a model that is able to train without any errors which will be judged on the total number of parameters (as the inference(prediction) time should be less) and the accuracy achieved. As suggested by Snehansu, start training on a small amount of data and then proceed further.\n",
        "\n",
        "3. **Write up**: This should contain the detailed procedure followed in choosing the final model. The write up should start with the reason for choosing the base model, then highlight the reasons and metrics taken into consideration to modify and experiment to arrive at the final model. "
      ]
    },
    {
      "cell_type": "code",
      "execution_count": 10,
      "metadata": {},
      "outputs": [
        {
          "name": "stdout",
          "output_type": "stream",
          "text": [
            "Requirement already satisfied: keras in /opt/homebrew/lib/python3.10/site-packages (2.13.1rc0)\n",
            "\n",
            "\u001b[1m[\u001b[0m\u001b[34;49mnotice\u001b[0m\u001b[1;39;49m]\u001b[0m\u001b[39;49m A new release of pip is available: \u001b[0m\u001b[31;49m23.0\u001b[0m\u001b[39;49m -> \u001b[0m\u001b[32;49m23.1.2\u001b[0m\n",
            "\u001b[1m[\u001b[0m\u001b[34;49mnotice\u001b[0m\u001b[1;39;49m]\u001b[0m\u001b[39;49m To update, run: \u001b[0m\u001b[32;49mpython3.10 -m pip install --upgrade pip\u001b[0m\n",
            "Note: you may need to restart the kernel to use updated packages.\n"
          ]
        }
      ],
      "source": [
        "pip install keras"
      ]
    },
    {
      "cell_type": "code",
      "execution_count": 9,
      "metadata": {
        "id": "5_LPK5Yd4Kk-"
      },
      "outputs": [
        {
          "ename": "ModuleNotFoundError",
          "evalue": "No module named 'keras.layers.convolutional'",
          "output_type": "error",
          "traceback": [
            "\u001b[0;31m---------------------------------------------------------------------------\u001b[0m",
            "\u001b[0;31mModuleNotFoundError\u001b[0m                       Traceback (most recent call last)",
            "Cell \u001b[0;32mIn [9], line 23\u001b[0m\n\u001b[1;32m     21\u001b[0m \u001b[38;5;28;01mfrom\u001b[39;00m \u001b[38;5;21;01mkeras\u001b[39;00m\u001b[38;5;21;01m.\u001b[39;00m\u001b[38;5;21;01mmodels\u001b[39;00m \u001b[38;5;28;01mimport\u001b[39;00m Sequential, Model\n\u001b[1;32m     22\u001b[0m \u001b[38;5;28;01mfrom\u001b[39;00m \u001b[38;5;21;01mkeras\u001b[39;00m\u001b[38;5;21;01m.\u001b[39;00m\u001b[38;5;21;01mlayers\u001b[39;00m \u001b[38;5;28;01mimport\u001b[39;00m Dense, GRU, Flatten, TimeDistributed, Flatten, BatchNormalization, Activation\n\u001b[0;32m---> 23\u001b[0m \u001b[38;5;28;01mfrom\u001b[39;00m \u001b[38;5;21;01mkeras\u001b[39;00m\u001b[38;5;21;01m.\u001b[39;00m\u001b[38;5;21;01mlayers\u001b[39;00m\u001b[38;5;21;01m.\u001b[39;00m\u001b[38;5;21;01mconvolutional\u001b[39;00m \u001b[38;5;28;01mimport\u001b[39;00m Conv3D, MaxPooling3D, Conv2D, MaxPooling2D\n\u001b[1;32m     24\u001b[0m \u001b[38;5;28;01mfrom\u001b[39;00m \u001b[38;5;21;01mkeras\u001b[39;00m\u001b[38;5;21;01m.\u001b[39;00m\u001b[38;5;21;01mlayers\u001b[39;00m \u001b[38;5;28;01mimport\u001b[39;00m LSTM\n\u001b[1;32m     25\u001b[0m \u001b[38;5;28;01mfrom\u001b[39;00m \u001b[38;5;21;01mkeras\u001b[39;00m\u001b[38;5;21;01m.\u001b[39;00m\u001b[38;5;21;01mcallbacks\u001b[39;00m \u001b[38;5;28;01mimport\u001b[39;00m ModelCheckpoint, ReduceLROnPlateau, EarlyStopping\n",
            "\u001b[0;31mModuleNotFoundError\u001b[0m: No module named 'keras.layers.convolutional'"
          ]
        }
      ],
      "source": [
        "## Imports\n",
        "\n",
        "import numpy as np\n",
        "import os\n",
        "import skimage\n",
        "from skimage.io import imread\n",
        "from skimage.transform import resize\n",
        "import datetime\n",
        "\n",
        "\n",
        "\n",
        "import cv2\n",
        "import matplotlib.pyplot as plt\n",
        "%matplotlib inline\n",
        "\n",
        "import abc\n",
        "from sys import getsizeof\n",
        "\n",
        "# importing some other libraries which will be needed for model building.\n",
        "\n",
        "from keras.models import Sequential, Model\n",
        "from keras.layers import Dense, GRU, Flatten, TimeDistributed, Flatten, BatchNormalization, Activation\n",
        "from keras.layers import Conv3D, MaxPooling3D, Conv2D, MaxPooling2D\n",
        "from keras.layers import LSTM\n",
        "from keras.callbacks import ModelCheckpoint, ReduceLROnPlateau, EarlyStopping\n",
        "from keras import optimizers\n",
        "from keras.layers import Dropout\n",
        "\n",
        "import warnings\n",
        "warnings.filterwarnings(\"ignore\")"
      ]
    },
    {
      "cell_type": "markdown",
      "metadata": {
        "id": "Q4tlmjf64Kk_"
      },
      "source": [
        "We set the random seed so that the results don't vary drastically."
      ]
    },
    {
      "cell_type": "code",
      "execution_count": null,
      "metadata": {
        "id": "I_TZS47I4Kk_"
      },
      "outputs": [],
      "source": [
        "import os\n",
        "np.random.seed(30)\n",
        "import random as rn\n",
        "rn.seed(30)\n",
        "from keras import backend as K\n",
        "import tensorflow as tf\n",
        "tf.random.set_seed(30)"
      ]
    },
    {
      "cell_type": "markdown",
      "metadata": {
        "id": "YIp-Nju04Kk_"
      },
      "source": [
        "In this block, you read the folder names for training and validation. You also set the `batch_size` here. Note that you set the batch size in such a way that you are able to use the GPU in full capacity. You keep increasing the batch size until the machine throws an error."
      ]
    },
    {
      "cell_type": "code",
      "execution_count": null,
      "metadata": {
        "id": "ikocIuqgucab"
      },
      "outputs": [],
      "source": [
        "# path with csv containing folder names \n",
        "train_csv_path = '/content/drive/My Drive/Upgrad/G_Ass/Project_data/train.csv'\n",
        "val_csv_path = '/content/drive/My Drive/Upgrad/G_Ass/Project_data/val.csv'\n",
        "\n",
        "# path of train and val folders\n",
        "train_path = '/content/drive/My Drive/Upgrad/G_Ass/Project_data/train'\n",
        "val_path = '/content/drive/My Drive/Upgrad/G_Ass/Project_data/val'\n",
        "\n",
        "# image size \n",
        "image_shape = (160,160,3) \n",
        "dim_x = 160\n",
        "dim_y = 160\n",
        "\n",
        "\n",
        "# batch_size \n",
        "batch_size = 32\n",
        "\n",
        "# number of epochs\n",
        "num_epochs = 30 \n",
        "\n",
        "# image augmentation\n",
        "augmentation = False\n",
        "\n",
        "# retrain cnn\n",
        "retrain = True"
      ]
    },
    {
      "cell_type": "code",
      "execution_count": null,
      "metadata": {
        "id": "46j2jsXivAY6"
      },
      "outputs": [],
      "source": [
        "# index of frames processed in each video \n",
        "\n",
        "def video_frames(mode='alternate',length=None) : \n",
        "    if mode == 'alternate' :\n",
        "        return [0,2,4,6,8,10,12,14,16,18,20,22,24,26,28]\n",
        "    elif mode == 'all' :\n",
        "        return list(range(30))\n",
        "    elif mode == 'middle' : \n",
        "        return list(range(5,25))\n",
        "    elif (mode == 'random') and length : \n",
        "        return list(np.random.rand(0,29,length))\n",
        "    \n",
        "frames_to_sample = video_frames(mode='all')"
      ]
    },
    {
      "cell_type": "code",
      "execution_count": null,
      "metadata": {
        "id": "4DbJfysr4Kk_"
      },
      "outputs": [],
      "source": [
        "# image augmentation \n",
        "    \n",
        "\n",
        "# detecting skin tones. Since, gestures are performed by humans, masking the background and only detecting the skin could be a greate preprocessing step.\n",
        "# The below function is skin tone filter\n",
        "def skin_rules(R_Frame, G_Frame, B_Frame) : \n",
        "    BRG_Max = np.maximum.reduce([B_Frame, G_Frame, R_Frame])\n",
        "    BRG_Min = np.minimum.reduce([B_Frame, G_Frame, R_Frame])\n",
        "    #at uniform daylight, The skin colour illumination's rule is defined by the following equation :\n",
        "    Rule_1 = np.logical_and.reduce([R_Frame > 95, G_Frame > 40, B_Frame > 20 ,\n",
        "                                 BRG_Max - BRG_Min > 15,abs(R_Frame - G_Frame) > 15, \n",
        "                                 R_Frame > G_Frame, R_Frame > B_Frame])\n",
        "    #the skin colour under flashlight or daylight lateral illumination rule is defined by the following equation :\n",
        "    Rule_2 = np.logical_and.reduce([R_Frame > 220, G_Frame > 210, B_Frame > 170,\n",
        "                         abs(R_Frame - G_Frame) <= 15, R_Frame > B_Frame, G_Frame > B_Frame])\n",
        "    #Rule_1 U Rule_2\n",
        "    RGB_Rule = np.logical_or(Rule_1, Rule_2)\n",
        "    return RGB_Rule\n",
        "\n",
        "# The below function detects skin and removes other scene elements.\n",
        "def detect_skin(img) : \n",
        "\n",
        "    mask = skin_rules(img[:,:,0], img[:,:,1], img[:,:,2])\n",
        "    img[:,:,0] = img[:,:,0] * mask \n",
        "    img[:,:,1] = img[:,:,1] * mask \n",
        "    img[:,:,2] = img[:,:,2] * mask\n",
        "\n",
        "    return img\n",
        "\n",
        "def erode(img,kernel) : \n",
        "    img_erode = np.zeros_like(img)\n",
        "\n",
        "    img_erode[:,:,0] = cv2.erode(img[:,:,0],kernel)\n",
        "    img_erode[:,:,1] = cv2.erode(img[:,:,1],kernel)\n",
        "    img_erode[:,:,2] = cv2.erode(img[:,:,2],kernel)\n",
        "\n",
        "    return img_erode\n",
        "\n",
        "def dilate(img,kernel) : \n",
        "    img_dilate = np.zeros_like(img)\n",
        "    img_dilate[:,:,0] = cv2.dilate(img[:,:,0],kernel)\n",
        "    img_dilate[:,:,1] = cv2.dilate(img[:,:,1],kernel)\n",
        "    img_dilate[:,:,2] = cv2.dilate(img[:,:,2],kernel)\n",
        "\n",
        "    return img_dilate\n",
        "\n",
        "\n",
        "def closing(img,kernel) : \n",
        "    return dilate(erode(img,kernel),kernel)\n",
        "\n",
        "def opening(img,kernel) : \n",
        "    return erode(dilate(img,kernel),kernel)\n",
        "\n",
        "\n",
        "def open_close(img,kernel) : \n",
        "    return closing(opening(img,kernel),kernel)\n",
        "\n",
        "def close_open(img,kernel) : \n",
        "    return closing(opening(img,kernel),kernel)\n",
        "\n",
        "# opencv normalisation is used to prevent any math overflows.\n",
        "def cv_normalise(img) : \n",
        "    img_new = np.zeros_like(img)\n",
        "    cv2.normalize(img, img_new , 0,1, cv2.NORM_MINMAX)\n",
        "\n",
        "    assert round(np.max(img_new),1) == 1, 'Normalisation error'+ str(np.max(img_new)) \n",
        "    assert round(np.min(img_new),1) == 0 ,'Normalisation error'+ str(np.min(img_new))\n",
        "\n",
        "    return img_new\n",
        "\n",
        "\n",
        "# opening and then closing is performed to remove noise from images and then skin is detected\n",
        "def preprocess_image(img,kernel) : \n",
        "\n",
        "    img = open_close(img,kernel)\n",
        "    img = detect_skin(img)\n",
        "\n",
        "    return img"
      ]
    },
    {
      "cell_type": "code",
      "execution_count": null,
      "metadata": {
        "id": "xSIOKLB3vkj0"
      },
      "outputs": [],
      "source": [
        "# model training history plot\n",
        "def plot_model_history(history):\n",
        "    fig, axes = plt.subplots(nrows=1, ncols=2, figsize=(15,4))\n",
        "    axes[0].plot(history.history['loss'])   \n",
        "    axes[0].plot(history.history['val_loss'])\n",
        "    axes[0].legend(['loss','val_loss'])\n",
        "\n",
        "    axes[1].plot(history.history['categorical_accuracy'])   \n",
        "    axes[1].plot(history.history['val_categorical_accuracy'])\n",
        "    axes[1].legend(['categorical_accuracy','val_categorical_accuracy'])"
      ]
    },
    {
      "cell_type": "code",
      "execution_count": null,
      "metadata": {
        "id": "O0LZrtCIvoMC"
      },
      "outputs": [],
      "source": [
        "# Parsing train & validation csv\n",
        "train_doc = np.random.permutation(open(train_csv_path).readlines())\n",
        "val_doc = np.random.permutation(open(val_csv_path).readlines())"
      ]
    },
    {
      "cell_type": "markdown",
      "metadata": {
        "id": "itOqRuxr4Kk_"
      },
      "source": [
        "## Generator\n",
        "This is one of the most important part of the code. The overall structure of the generator has been given. In the generator, you are going to preprocess the images as you have images of 2 different dimensions as well as create a batch of video frames. You have to experiment with `img_idx`, `y`,`z` and normalization such that you get high accuracy."
      ]
    },
    {
      "cell_type": "code",
      "execution_count": null,
      "metadata": {
        "id": "yKYtNadB4Kk_",
        "scrolled": true
      },
      "outputs": [],
      "source": [
        "# Generator function \n",
        "\n",
        "def generator(source_path, folder_list, batch_size=batch_size, augmentation=augmentation):\n",
        "    print( '\\nSource path = ', source_path, '; batch size =', batch_size)\n",
        "    img_idx = frames_to_sample\n",
        "    while True:\n",
        "        t = np.random.permutation(folder_list)\n",
        "        num_batches = len(folder_list)// batch_size \n",
        "        for batch in range(num_batches): \n",
        "            batch_data = np.zeros((batch_size,len(img_idx),*image_shape))\n",
        "            batch_labels = np.zeros((batch_size,5)) \n",
        "            \n",
        "            for folder in range(batch_size): \n",
        "                imgs = os.listdir(source_path+'/'+ t[folder + (batch*batch_size)].split(';')[0]) \n",
        "                for idx,item in enumerate(img_idx): \n",
        "                    image = imread(source_path+'/'+ t[folder + (batch*batch_size)].strip().split(';')[0]+'/'+imgs[item]).astype(np.float32)\n",
        "                    \n",
        "                    \n",
        "                    # Although images are of two different sizes, 120x160 images do not have much information in 0-20 and 140-60 band. \n",
        "                    # Hence 120x160 images could be cropped to 120x120 as follows.\n",
        "                    if image.shape[0] == 120 : \n",
        "                        image = image[:,20:140]\n",
        "                    # Similarly, 360x360 images could be center cropped since the gesture information is contained in the center.\n",
        "                    if image.shape[0] == 360 : \n",
        "                        image = image[120:240,120:240]\n",
        "                        \n",
        "                    # Both images are brought to the same dimension and then resized to 160x160\n",
        "                    image = resize(image, (160,160))\n",
        "                        \n",
        "                    # if augmentation is true, randomly mask scenes from a few images.\n",
        "                    if augmentation and idx.isin(list(np.random.randint(0,29,5))): \n",
        "                        kernel = (1/16)*np.ones((4,4)) # kernel for morphological transformations \n",
        "                        image = preprocess_image(image,kernel)\n",
        "                    \n",
        "                        \n",
        "                    # Normalisation \n",
        "                    batch_data[folder,idx,:,:,0] = cv_normalise(image[:,:,0])\n",
        "                    batch_data[folder,idx,:,:,1] = cv_normalise(image[:,:,1])\n",
        "                    batch_data[folder,idx,:,:,2] = cv_normalise(image[:,:,2])\n",
        "                    \n",
        "                    \n",
        "                batch_labels[folder, int(t[folder + (batch*batch_size)].strip().split(';')[2])] = 1\n",
        "                    \n",
        "            yield batch_data, batch_labels \n",
        "\n",
        "        \n",
        "        # Remaining data after integral batch_numbers \n",
        "        \n",
        "        remainder_size = len(folder_list) % batch_size\n",
        "        remainder_folders = t[-1*(remainder_size + 1) : -1 ]\n",
        "        \n",
        "        assert remainder_size == len(range(-1*(remainder_size + 1) , -1)) , 'Take care of the remainder folders '\n",
        "        \n",
        "        # The last remaining image folders are still loaded onto a tensor of batch_size. It has been noted that this doesnot affect performance.\n",
        "        batch_data = np.zeros((batch_size,len(img_idx),*image_shape)) \n",
        "        batch_labels = np.zeros((batch_size,5))\n",
        "        \n",
        "        \n",
        "        for folder in range(remainder_size): \n",
        "            \n",
        "            imgs = os.listdir(source_path+'/'+ remainder_folders[folder].split(';')[0])\n",
        "            \n",
        "            \n",
        "            for idx,item in enumerate(img_idx): \n",
        "                image = imread(source_path+'/'+ remainder_folders[folder].strip().split(';')[0]+'/'+imgs[item]).astype(np.float32)\n",
        "                \n",
        "                \n",
        "                if image.shape[0] == 120 : \n",
        "                    image = image[:,20:140]\n",
        "                if image.shape[0] == 360 : \n",
        "                    image = image[120:240,120:240]\n",
        "                \n",
        "                image = resize(image, (160,160))\n",
        "                \n",
        "                if augmentation and idx.isin(list(np.random.randint(0,29,5))): \n",
        "                        kernel = (1/16)*np.ones((4,4)) # kernel for morphological transformations \n",
        "                        image = preprocess_image(image,kernel)\n",
        "                    \n",
        "\n",
        "                batch_data[folder,idx,:,:,0] = cv_normalise(image[:,:,0])\n",
        "                batch_data[folder,idx,:,:,1] = cv_normalise(image[:,:,1])\n",
        "                batch_data[folder,idx,:,:,2] = cv_normalise(image[:,:,2])\n",
        "\n",
        "            \n",
        "            batch_labels[folder, int(remainder_folders[folder].strip().split(';')[2])] = 1\n",
        "            \n",
        "           \n",
        "                \n",
        "                    \n",
        "        yield batch_data, batch_labels"
      ]
    },
    {
      "cell_type": "markdown",
      "metadata": {
        "id": "YgO2VqJl4KlA"
      },
      "source": [
        "Note here that a video is represented above in the generator as (number of images, height, width, number of channels). Take this into consideration while creating the model architecture."
      ]
    },
    {
      "cell_type": "code",
      "execution_count": null,
      "metadata": {
        "colab": {
          "base_uri": "https://localhost:8080/"
        },
        "id": "g9FYffQ64KlA",
        "outputId": "d4c6a526-423b-4da7-edf5-c1bbdf841ccc"
      },
      "outputs": [
        {
          "name": "stdout",
          "output_type": "stream",
          "text": [
            "# training sequences = 663\n",
            "# validation sequences = 100\n",
            "# epochs = 30\n"
          ]
        }
      ],
      "source": [
        "# Sequence lengths\n",
        "\n",
        "curr_dt_time = datetime.datetime.now()\n",
        "num_train_sequences = len(train_doc)\n",
        "print('# training sequences =', num_train_sequences)\n",
        "num_val_sequences = len(val_doc)\n",
        "print('# validation sequences =', num_val_sequences)\n",
        "print ('# epochs =', num_epochs)"
      ]
    },
    {
      "cell_type": "code",
      "execution_count": null,
      "metadata": {
        "id": "75rY7BiW4KlA",
        "scrolled": false
      },
      "outputs": [],
      "source": [
        "# testing generative \n",
        "train_generator = generator(train_path, train_doc, batch_size)\n",
        "val_generator = generator(val_path, val_doc, batch_size,augmentation=False)"
      ]
    },
    {
      "cell_type": "markdown",
      "metadata": {
        "id": "nCJYfrU54KlA"
      },
      "source": [
        "## Model\n",
        "Here you make the model using different functionalities that Keras provides. Remember to use `Conv3D` and `MaxPooling3D` and not `Conv2D` and `Maxpooling2D` for a 3D convolution model. You would want to use `TimeDistributed` while building a Conv2D + RNN model. Also remember that the last layer is the softmax. Design the network in such a way that the model is able to give good accuracy on the least number of parameters so that it can fit in the memory of the webcam."
      ]
    },
    {
      "cell_type": "code",
      "execution_count": null,
      "metadata": {
        "id": "z38L01GO4KlA"
      },
      "outputs": [],
      "source": [
        "from keras.models import Sequential, Model\n",
        "from keras.layers import Dense, GRU, Flatten, TimeDistributed, Flatten, BatchNormalization, Activation\n",
        "from keras.layers.convolutional import  Conv2D, MaxPooling2D\n",
        "from keras.callbacks import ModelCheckpoint, ReduceLROnPlateau\n",
        "from keras import optimizers\n",
        "from keras.layers import Dropout\n",
        "from keras.applications import mobilenet"
      ]
    },
    {
      "cell_type": "markdown",
      "metadata": {
        "id": "38WZos0L4KlA"
      },
      "source": [
        "### Experiment - 1 & 2\n",
        "**Conv3D**"
      ]
    },
    {
      "cell_type": "code",
      "execution_count": null,
      "metadata": {
        "id": "QVjGH2m44KlA"
      },
      "outputs": [],
      "source": [
        "# model = Sequential()\n",
        "# model.add(Conv3D(32, kernel_size=3, activation='relu', input_shape=input_shape))\n",
        "# model.add(MaxPooling3D(pool_size=2))\n",
        "\n",
        "# model.add(Conv3D(64, kernel_size=3, activation='relu'))\n",
        "# model.add(MaxPooling3D(pool_size=2))\n",
        "\n",
        "# model.add(Flatten())\n",
        "# model.add(Dense(256, activation='relu'))\n",
        "# model.add(Dense(5, activation='softmax'))"
      ]
    },
    {
      "cell_type": "markdown",
      "metadata": {
        "id": "UBX42jnl4KlA"
      },
      "source": [
        "### Experiment - 3\n",
        "**Conv3D**"
      ]
    },
    {
      "cell_type": "code",
      "execution_count": null,
      "metadata": {
        "id": "Uw9FFYC84KlA"
      },
      "outputs": [],
      "source": [
        "# model = Sequential()\n",
        "\n",
        "# model.add(Conv3D(32, kernel_size=3, activation='relu', input_shape=input_shape))\n",
        "# model.add(Conv3D(64, kernel_size=3, activation='relu'))\n",
        "# model.add(MaxPooling3D(pool_size=(2, 2, 2)))\n",
        "\n",
        "# model.add(Conv3D(128, kernel_size=3, activation='relu'))\n",
        "# model.add(MaxPooling3D(pool_size=(2, 2, 2)))\n",
        "\n",
        "# model.add(Conv3D(256, kernel_size=(3, 3, 3), activation='relu'))\n",
        "# model.add(MaxPooling3D(pool_size=(3, 2, 2)))\n",
        "\n",
        "# model.add(Conv3D(512, kernel_size=(3, 3, 3), activation='relu'))\n",
        "# model.add(Conv3D(512, kernel_size=(3, 3, 3), activation='relu'))\n",
        "# model.add(MaxPooling3D(pool_size=(2, 2, 2)))\n",
        "\n",
        "# model.add(Flatten())\n",
        "# model.add(Dense(512, activation='relu'))\n",
        "# model.add(Dense(5, activation='softmax'))"
      ]
    },
    {
      "cell_type": "markdown",
      "metadata": {
        "id": "z67iv5UL4KlB"
      },
      "source": [
        "### Experiment - 4\n",
        "**Conv3D**"
      ]
    },
    {
      "cell_type": "code",
      "execution_count": null,
      "metadata": {
        "id": "xcahBQza4KlB"
      },
      "outputs": [],
      "source": [
        "# model = Sequential()\n",
        "\n",
        "# model.add(Conv3D(32, kernel_size=3, activation='relu', input_shape=input_shape))\n",
        "# model.add(Conv3D(64, kernel_size=3, activation='relu'))\n",
        "# model.add(MaxPooling3D(pool_size=(2, 2, 2)))\n",
        "\n",
        "# model.add(Conv3D(128, kernel_size=3, activation='relu'))\n",
        "# model.add(MaxPooling3D(pool_size=(1, 2, 2)))\n",
        "\n",
        "# model.add(Conv3D(256, kernel_size=(1, 3, 3), activation='relu'))\n",
        "# model.add(MaxPooling3D(pool_size=(1, 2, 2)))\n",
        "\n",
        "# model.add(Conv3D(512, kernel_size=(1, 3, 3), activation='relu'))\n",
        "# model.add(Conv3D(512, kernel_size=(1, 3, 3), activation='relu'))\n",
        "# model.add(MaxPooling3D(pool_size=(1, 2, 2)))\n",
        "\n",
        "# model.add(Flatten())\n",
        "# model.add(Dense(512, activation='relu'))\n",
        "# model.add(Dense(5, activation='softmax'))"
      ]
    },
    {
      "cell_type": "markdown",
      "metadata": {
        "id": "T7vV4WbK4KlB"
      },
      "source": [
        "### Experiment - 5 & 6\n",
        "**Conv3D**"
      ]
    },
    {
      "cell_type": "code",
      "execution_count": null,
      "metadata": {
        "id": "oRBuPs1t4KlB"
      },
      "outputs": [],
      "source": [
        "# model = Sequential()\n",
        "\n",
        "# model.add(Conv3D(32, kernel_size=3, activation='relu', input_shape=input_shape))\n",
        "# model.add(Conv3D(64, kernel_size=3, activation='relu'))\n",
        "# model.add(MaxPooling3D(pool_size=(2, 2, 2)))\n",
        "# model.add(BatchNormalization())\n",
        "\n",
        "# model.add(Conv3D(128, kernel_size=3, activation='relu'))\n",
        "# model.add(MaxPooling3D(pool_size=(1, 2, 2)))\n",
        "# model.add(BatchNormalization())\n",
        "\n",
        "# model.add(Conv3D(256, kernel_size=(1, 3, 3), activation='relu'))\n",
        "# model.add(MaxPooling3D(pool_size=(1, 2, 2)))\n",
        "# model.add(BatchNormalization())\n",
        "\n",
        "# model.add(Conv3D(512, kernel_size=(1, 3, 3), activation='relu'))\n",
        "# model.add(Conv3D(512, kernel_size=(1, 3, 3), activation='relu'))\n",
        "# model.add(MaxPooling3D(pool_size=(1, 2, 2)))\n",
        "# model.add(BatchNormalization())\n",
        "\n",
        "# model.add(Flatten())\n",
        "# model.add(Dense(512, activation='relu'))\n",
        "# model.add(BatchNormalization())\n",
        "# model.add(Dense(5, activation='softmax'))"
      ]
    },
    {
      "cell_type": "markdown",
      "metadata": {
        "id": "0mXCEcsj4KlB"
      },
      "source": [
        "### Experiment - 7 & 8\n",
        "**Conv3D**"
      ]
    },
    {
      "cell_type": "code",
      "execution_count": null,
      "metadata": {
        "id": "IVrECqds4KlB"
      },
      "outputs": [],
      "source": [
        "# model = Sequential()\n",
        "\n",
        "# model.add(Conv3D(32, kernel_size=3, activation='relu', input_shape=input_shape))\n",
        "# model.add(Conv3D(64, kernel_size=3, activation='relu'))\n",
        "# model.add(MaxPooling3D(pool_size=(2, 2, 2)))\n",
        "# model.add(BatchNormalization())\n",
        "# #model.add(Dropout(0.2))\n",
        "# model.add(Dropout(0.5))\n",
        "\n",
        "# model.add(Conv3D(128, kernel_size=3, activation='relu'))\n",
        "# model.add(MaxPooling3D(pool_size=(1, 2, 2)))\n",
        "# model.add(BatchNormalization())\n",
        "# #model.add(Dropout(0.2))\n",
        "# model.add(Dropout(0.5))\n",
        "\n",
        "# model.add(Conv3D(256, kernel_size=(1, 3, 3), activation='relu'))\n",
        "# model.add(MaxPooling3D(pool_size=(1, 2, 2)))\n",
        "# model.add(BatchNormalization())\n",
        "# #model.add(Dropout(0.2))\n",
        "# model.add(Dropout(0.5))\n",
        "\n",
        "# model.add(Conv3D(512, kernel_size=(1, 3, 3), activation='relu'))\n",
        "# model.add(Conv3D(512, kernel_size=(1, 3, 3), activation='relu'))\n",
        "# model.add(MaxPooling3D(pool_size=(1, 2, 2)))\n",
        "# model.add(BatchNormalization())\n",
        "# #model.add(Dropout(0.2))\n",
        "# model.add(Dropout(0.5))\n",
        "\n",
        "# model.add(Flatten())\n",
        "# model.add(Dense(512, activation='relu'))\n",
        "# model.add(BatchNormalization())\n",
        "# model.add(Dense(5, activation='softmax'))"
      ]
    },
    {
      "cell_type": "markdown",
      "metadata": {
        "id": "z2D00EgB4KlB"
      },
      "source": [
        "### Experiment - 9\n",
        "**Conv3D**"
      ]
    },
    {
      "cell_type": "code",
      "execution_count": null,
      "metadata": {
        "id": "NZiYjm2u4KlB"
      },
      "outputs": [],
      "source": [
        "# model = Sequential()\n",
        "\n",
        "# model.add(Conv3D(32, kernel_size=3, activation='relu', input_shape=input_shape))\n",
        "# model.add(Conv3D(64, kernel_size=3, activation='relu'))\n",
        "# model.add(MaxPooling3D(pool_size=(2, 2, 2)))\n",
        "# model.add(BatchNormalization())\n",
        "# model.add(Dropout(0.2))\n",
        "\n",
        "# model.add(Conv3D(128, kernel_size=3, activation='relu'))\n",
        "# model.add(MaxPooling3D(pool_size=(1, 2, 2)))\n",
        "# model.add(BatchNormalization())\n",
        "# model.add(Dropout(0.2))\n",
        "\n",
        "# model.add(Conv3D(256, kernel_size=(1, 3, 3), activation='relu'))\n",
        "# model.add(MaxPooling3D(pool_size=(1, 2, 2)))\n",
        "# model.add(BatchNormalization())\n",
        "# model.add(Dropout(0.2))\n",
        "\n",
        "# model.add(Flatten())\n",
        "# model.add(Dense(512, activation='relu'))\n",
        "# model.add(BatchNormalization())\n",
        "# model.add(Dense(5, activation='softmax'))"
      ]
    },
    {
      "cell_type": "markdown",
      "metadata": {
        "id": "E7UhyQ114KlB"
      },
      "source": [
        "### Experiment - 10\n",
        "**Conv3D**"
      ]
    },
    {
      "cell_type": "code",
      "execution_count": null,
      "metadata": {
        "id": "I0KuhFTZ4KlB"
      },
      "outputs": [],
      "source": [
        "# loss: 0.1388 - categorical_accuracy: 0.9539 - val_loss: 0.1661 - val_categorical_accuracy: 0.9297\n",
        "# model = Sequential()\n",
        "\n",
        "# model.add(Conv3D(32, kernel_size=3, activation='relu', input_shape=input_shape))\n",
        "# model.add(Conv3D(64, kernel_size=3, activation='relu'))\n",
        "# model.add(MaxPooling3D(pool_size=(2, 2, 2)))\n",
        "# model.add(BatchNormalization())\n",
        "# model.add(Dropout(0.2))\n",
        "\n",
        "# model.add(Conv3D(128, kernel_size=3, activation='relu'))\n",
        "# model.add(MaxPooling3D(pool_size=(1, 2, 2)))\n",
        "# model.add(BatchNormalization())\n",
        "# model.add(Dropout(0.2))\n",
        "\n",
        "# model.add(Conv3D(256, kernel_size=(1, 3, 3), activation='relu'))\n",
        "# model.add(MaxPooling3D(pool_size=(1, 2, 2)))\n",
        "# model.add(BatchNormalization())\n",
        "# model.add(Dropout(0.2))\n",
        "\n",
        "# model.add(GlobalAveragePooling3D())\n",
        "# model.add(Dense(512, activation='relu'))\n",
        "# model.add(BatchNormalization())\n",
        "# model.add(Dense(5, activation='softmax'))"
      ]
    },
    {
      "cell_type": "markdown",
      "metadata": {
        "id": "uuh3Qj-T4KlC"
      },
      "source": [
        "### Experiment - 11\n",
        "**TimeDistributed Conv2D + GRU**"
      ]
    },
    {
      "cell_type": "code",
      "execution_count": null,
      "metadata": {
        "id": "z68gOyuv4KlC"
      },
      "outputs": [],
      "source": [
        "# model = Sequential()\n",
        "# model.add(TimeDistributed(\n",
        "#     Conv2D(32, (3,3), activation='relu'), input_shape=input_shape)\n",
        "# )\n",
        "# model.add(TimeDistributed(\n",
        "#     MaxPooling2D((2,2)))\n",
        "# )\n",
        "# model.add(BatchNormalization())\n",
        "\n",
        "# model.add(TimeDistributed(\n",
        "#     Conv2D(64, (3,3), activation='relu'))\n",
        "# )\n",
        "# model.add(TimeDistributed(\n",
        "#     MaxPooling2D((2,2)))\n",
        "# )\n",
        "# model.add(BatchNormalization())\n",
        "\n",
        "# model.add(TimeDistributed(GlobalAveragePooling2D()))\n",
        "# model.add(TimeDistributed(Dense(64, activation='relu')))\n",
        "# model.add(BatchNormalization())\n",
        "\n",
        "# model.add(GRU(128))\n",
        "# model.add(BatchNormalization())\n",
        "# model.add(Dense(5, activation='softmax'))"
      ]
    },
    {
      "cell_type": "markdown",
      "metadata": {
        "id": "Ms1l3_ah4KlC"
      },
      "source": [
        "### Experiment - 12\n",
        "**TimeDistributed Conv2D + GRU**"
      ]
    },
    {
      "cell_type": "code",
      "execution_count": null,
      "metadata": {
        "id": "av6d5QqY4KlC"
      },
      "outputs": [],
      "source": [
        "# model = Sequential()\n",
        "# model.add(TimeDistributed(\n",
        "#     Conv2D(32, (3,3), activation='relu'), input_shape=input_shape)\n",
        "# )\n",
        "# model.add(TimeDistributed(\n",
        "#     MaxPooling2D((2,2)))\n",
        "# )\n",
        "# model.add(BatchNormalization())\n",
        "# model.add(Dropout(0.2))\n",
        "\n",
        "# model.add(TimeDistributed(\n",
        "#     Conv2D(64, (3,3), activation='relu'))\n",
        "# )\n",
        "# model.add(TimeDistributed(\n",
        "#     MaxPooling2D((2,2)))\n",
        "# )\n",
        "# model.add(BatchNormalization())\n",
        "# model.add(Dropout(0.2))\n",
        "\n",
        "# model.add(TimeDistributed(GlobalAveragePooling2D()))\n",
        "# model.add(TimeDistributed(Dense(64, activation='relu')))\n",
        "# model.add(BatchNormalization())\n",
        "# model.add(Dropout(0.2))\n",
        "\n",
        "# model.add(GRU(128))\n",
        "# model.add(BatchNormalization())\n",
        "# model.add(Dense(5, activation='softmax'))"
      ]
    },
    {
      "cell_type": "markdown",
      "metadata": {
        "id": "XRGzvBzK4KlC"
      },
      "source": [
        "### Experiment - 13\n",
        "**TimeDistributed Conv2D + Dense**"
      ]
    },
    {
      "cell_type": "code",
      "execution_count": null,
      "metadata": {
        "id": "xZWXHS274KlC"
      },
      "outputs": [],
      "source": [
        "# model = Sequential()\n",
        "# model.add(TimeDistributed(\n",
        "#     Conv2D(32, (3,3), activation='relu'), input_shape=input_shape)\n",
        "# )\n",
        "# model.add(TimeDistributed(\n",
        "#     MaxPooling2D((2,2)))\n",
        "# )\n",
        "# model.add(BatchNormalization())\n",
        "\n",
        "# model.add(TimeDistributed(\n",
        "#     Conv2D(64, (3,3), activation='relu'))\n",
        "# )\n",
        "# model.add(TimeDistributed(\n",
        "#     MaxPooling2D((2,2)))\n",
        "# )\n",
        "# model.add(BatchNormalization())\n",
        "\n",
        "# model.add(TimeDistributed(\n",
        "#     Conv2D(128, (3,3), activation='relu'))\n",
        "# )\n",
        "# model.add(TimeDistributed(\n",
        "#     MaxPooling2D((2,2)))\n",
        "# )\n",
        "# model.add(BatchNormalization())\n",
        "\n",
        "# model.add(GlobalAveragePooling3D())\n",
        "# model.add(Dense(256, activation='relu'))\n",
        "# model.add(BatchNormalization())\n",
        "# model.add(Dense(5, activation='softmax'))"
      ]
    },
    {
      "cell_type": "markdown",
      "metadata": {
        "id": "Y0aFfK984KlC"
      },
      "source": [
        "### Experiment - 14\n",
        "**TimeDistributed + ConvLSTM2D**"
      ]
    },
    {
      "cell_type": "code",
      "execution_count": null,
      "metadata": {
        "id": "0QS_D_zh4KlC"
      },
      "outputs": [],
      "source": [
        "# model = Sequential()\n",
        "# model.add(TimeDistributed(\n",
        "#     Conv2D(8, (3,3), activation='relu'), input_shape=input_shape)\n",
        "# )\n",
        "# model.add(BatchNormalization())\n",
        "# model.add(TimeDistributed(\n",
        "#     Conv2D(16, (3,3), activation='relu'))\n",
        "# )\n",
        "# model.add(BatchNormalization())\n",
        "# model.add(\n",
        "#     ConvLSTM2D(8, kernel_size = 3, return_sequences=False)\n",
        "# )\n",
        "# model.add(BatchNormalization())\n",
        "# model.add(TimeDistributed(\n",
        "#     Dense(64, activation='relu'))\n",
        "# )\n",
        "# model.add(BatchNormalization())\n",
        "# model.add(GlobalAveragePooling2D())\n",
        "# model.add(Dense(64, activation='relu'))\n",
        "# model.add(Dense(5, activation='softmax'))"
      ]
    },
    {
      "cell_type": "markdown",
      "metadata": {
        "id": "6y6kaJL14KlC"
      },
      "source": [
        "# Final Model"
      ]
    },
    {
      "cell_type": "code",
      "execution_count": null,
      "metadata": {
        "colab": {
          "base_uri": "https://localhost:8080/"
        },
        "id": "e-IN7U1f4KlJ",
        "outputId": "bc42334d-fadc-4d86-bf79-cf7d56e9d135"
      },
      "outputs": [
        {
          "name": "stderr",
          "output_type": "stream",
          "text": [
            "WARNING:tensorflow:`input_shape` is undefined or non-square, or `rows` is not in [128, 160, 192, 224]. Weights for input shape (224, 224) will be loaded as the default.\n"
          ]
        }
      ],
      "source": [
        "# Model Parameters\n",
        "gru_cells = 64\n",
        "dense_layer=64\n",
        "dropout_ratio = 0.25\n",
        "retrain_cnn = False\n",
        "\n",
        "# Re-trained Mobile-Net CONV2D architecture followed by GRU (RNN)\n",
        "\n",
        "mobilenet_transfer = mobilenet.MobileNet(weights='imagenet', include_top=False)\n",
        "\n",
        "# CNN-RNN model\n",
        "model = Sequential()\n",
        "model.add(TimeDistributed(mobilenet_transfer,input_shape=(len(frames_to_sample),*image_shape)))\n",
        "\n",
        "for layer in model.layers:\n",
        "    layer.trainable = retrain\n",
        "    \n",
        "model.add(TimeDistributed(BatchNormalization()))\n",
        "model.add(TimeDistributed(MaxPooling2D((2, 2))))\n",
        "model.add(TimeDistributed(Flatten()))\n",
        "\n",
        "model.add(GRU(gru_cells))\n",
        "model.add(Dropout(dropout_ratio))\n",
        "\n",
        "model.add(Dense(dense_layer,activation='relu'))\n",
        "model.add(Dropout(dropout_ratio))\n",
        "\n",
        "model.add(Dense(5, activation='softmax'))\n",
        "\n",
        "\n",
        "optimiser = optimizers.Adam(lr=0.0005)\n",
        "\n",
        "model.compile(optimizer=optimiser, loss='categorical_crossentropy', metrics=['categorical_accuracy'])"
      ]
    },
    {
      "cell_type": "markdown",
      "metadata": {
        "id": "OIPOvtMJ4KlJ"
      },
      "source": [
        "Now that you have written the model, the next step is to `compile` the model. When you print the `summary` of the model, you'll see the total number of parameters you have to train."
      ]
    },
    {
      "cell_type": "code",
      "execution_count": null,
      "metadata": {
        "colab": {
          "base_uri": "https://localhost:8080/"
        },
        "id": "6zXjGS8W4KlJ",
        "outputId": "da4913fa-ae9b-48e1-bc07-a4957ff1559e",
        "scrolled": false
      },
      "outputs": [
        {
          "name": "stdout",
          "output_type": "stream",
          "text": [
            "Model: \"sequential\"\n",
            "_________________________________________________________________\n",
            " Layer (type)                Output Shape              Param #   \n",
            "=================================================================\n",
            " time_distributed (TimeDistr  (None, 30, 5, 5, 1024)   3228864   \n",
            " ibuted)                                                         \n",
            "                                                                 \n",
            " time_distributed_1 (TimeDis  (None, 30, 5, 5, 1024)   4096      \n",
            " tributed)                                                       \n",
            "                                                                 \n",
            " time_distributed_2 (TimeDis  (None, 30, 2, 2, 1024)   0         \n",
            " tributed)                                                       \n",
            "                                                                 \n",
            " time_distributed_3 (TimeDis  (None, 30, 4096)         0         \n",
            " tributed)                                                       \n",
            "                                                                 \n",
            " gru (GRU)                   (None, 64)                799104    \n",
            "                                                                 \n",
            " dropout (Dropout)           (None, 64)                0         \n",
            "                                                                 \n",
            " dense (Dense)               (None, 64)                4160      \n",
            "                                                                 \n",
            " dropout_1 (Dropout)         (None, 64)                0         \n",
            "                                                                 \n",
            " dense_1 (Dense)             (None, 5)                 325       \n",
            "                                                                 \n",
            "=================================================================\n",
            "Total params: 4,036,549\n",
            "Trainable params: 4,012,613\n",
            "Non-trainable params: 23,936\n",
            "_________________________________________________________________\n"
          ]
        }
      ],
      "source": [
        "model.summary()"
      ]
    },
    {
      "cell_type": "markdown",
      "metadata": {
        "id": "MNxpWEH74KlJ"
      },
      "source": [
        "Let us create the `train_generator` and the `val_generator` which will be used in `.fit_generator`."
      ]
    },
    {
      "cell_type": "code",
      "execution_count": null,
      "metadata": {
        "id": "h_t_RFEy4KlJ"
      },
      "outputs": [],
      "source": [
        "train_generator = generator(train_path, train_doc, batch_size)\n",
        "val_generator = generator(val_path, val_doc, batch_size,augmentation=False)"
      ]
    },
    {
      "cell_type": "code",
      "execution_count": null,
      "metadata": {
        "colab": {
          "base_uri": "https://localhost:8080/"
        },
        "id": "wSDzaqmE4KlJ",
        "outputId": "cbc17fb3-b492-4a7b-8695-cf37a8d4c5b4"
      },
      "outputs": [
        {
          "name": "stderr",
          "output_type": "stream",
          "text": [
            "WARNING:tensorflow:`period` argument is deprecated. Please use `save_freq` to specify the frequency in number of batches seen.\n"
          ]
        }
      ],
      "source": [
        "model_name = 'mobilenet_cnn_rnn' + '_' + str(curr_dt_time).replace(' ','').replace(':','_') + '/'\n",
        "    \n",
        "if not os.path.exists(model_name):\n",
        "    os.mkdir(model_name)\n",
        "        \n",
        "filepath = model_name + 'model-{epoch:05d}-{loss:.5f}-{categorical_accuracy:.5f}-{val_loss:.5f}-{val_categorical_accuracy:.5f}.h5'\n",
        "\n",
        "checkpoint = ModelCheckpoint(filepath, monitor='val_loss', verbose=1, save_best_only=False, save_weights_only=False, mode='auto', period=1)\n",
        "\n",
        "LR = tf.keras.callbacks.ReduceLROnPlateau(\n",
        "    monitor=\"val_loss\",\n",
        "    factor=0.2,\n",
        "    patience=4,\n",
        ")\n",
        "# earlyStopping = tf.keras.callbacks.EarlyStopping(\n",
        "#     monitor=\"val_loss\",\n",
        "#     min_delta=0.00001,\n",
        "# )\n",
        "\n",
        "callbacks = [checkpoint,LR]"
      ]
    },
    {
      "cell_type": "markdown",
      "metadata": {
        "id": "WanlI9JX4KlJ"
      },
      "source": [
        "The `steps_per_epoch` and `validation_steps` are used by `fit_generator` to decide the number of next() calls it need to make."
      ]
    },
    {
      "cell_type": "code",
      "execution_count": null,
      "metadata": {
        "id": "tP42SaLa4KlK"
      },
      "outputs": [],
      "source": [
        "if (num_train_sequences%batch_size) == 0:\n",
        "    steps_per_epoch = int(num_train_sequences/batch_size)  \n",
        "else:\n",
        "    steps_per_epoch = (num_train_sequences//batch_size) + 1\n",
        "if (num_val_sequences%batch_size) == 0:\n",
        "    validation_steps = int(num_val_sequences/batch_size)\n",
        "else:\n",
        "    validation_steps = (num_val_sequences//batch_size) + 1"
      ]
    },
    {
      "cell_type": "markdown",
      "metadata": {
        "id": "QVwVopss4KlK"
      },
      "source": [
        "Let us now fit the model. This will start training the model and with the help of the checkpoints, you'll be able to save the model at the end of each epoch."
      ]
    },
    {
      "cell_type": "code",
      "execution_count": null,
      "metadata": {
        "colab": {
          "base_uri": "https://localhost:8080/"
        },
        "id": "rEU-cnPv4KlK",
        "outputId": "83c92097-2820-424d-f16e-726bb628c020",
        "scrolled": false
      },
      "outputs": [
        {
          "name": "stdout",
          "output_type": "stream",
          "text": [
            "\n",
            "Source path =  /content/drive/My Drive/Upgrad/G_Ass/Project_data/train ; batch size = 32\n",
            "Epoch 1/30\n"
          ]
        }
      ],
      "source": [
        "with tf.device('/GPU:0'):\n",
        "    model_history = model.fit_generator(train_generator, steps_per_epoch=steps_per_epoch, epochs=num_epochs, verbose=1, \n",
        "                    callbacks=callbacks, validation_data=val_generator, \n",
        "                    validation_steps=validation_steps, class_weight=None, workers=1, initial_epoch=0)"
      ]
    },
    {
      "cell_type": "code",
      "execution_count": null,
      "metadata": {
        "id": "s2U95AEC4KlK",
        "scrolled": false
      },
      "outputs": [],
      "source": [
        "plot_model_history(model_history)"
      ]
    },
    {
      "cell_type": "code",
      "execution_count": null,
      "metadata": {
        "id": "UgqmkeiW4KlM"
      },
      "outputs": [],
      "source": []
    }
  ],
  "metadata": {
    "colab": {
      "provenance": []
    },
    "kernelspec": {
      "display_name": "Python 3.10.10 64-bit",
      "language": "python",
      "name": "python3"
    },
    "language_info": {
      "codemirror_mode": {
        "name": "ipython",
        "version": 3
      },
      "file_extension": ".py",
      "mimetype": "text/x-python",
      "name": "python",
      "nbconvert_exporter": "python",
      "pygments_lexer": "ipython3",
      "version": "3.10.10"
    },
    "vscode": {
      "interpreter": {
        "hash": "bd385fe162c5ca0c84973b7dd5c518456272446b2b64e67c2a69f949ca7a1754"
      }
    }
  },
  "nbformat": 4,
  "nbformat_minor": 0
}
